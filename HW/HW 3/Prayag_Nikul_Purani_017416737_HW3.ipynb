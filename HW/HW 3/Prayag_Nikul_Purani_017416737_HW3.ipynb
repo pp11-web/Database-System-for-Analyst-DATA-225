{
 "cells": [
  {
   "cell_type": "code",
   "execution_count": 1,
   "id": "d8be189f",
   "metadata": {},
   "outputs": [],
   "source": [
    "import pandas as pd"
   ]
  },
  {
   "cell_type": "code",
   "execution_count": 2,
   "id": "aff09613",
   "metadata": {},
   "outputs": [
    {
     "data": {
      "text/html": [
       "<div>\n",
       "<style scoped>\n",
       "    .dataframe tbody tr th:only-of-type {\n",
       "        vertical-align: middle;\n",
       "    }\n",
       "\n",
       "    .dataframe tbody tr th {\n",
       "        vertical-align: top;\n",
       "    }\n",
       "\n",
       "    .dataframe thead th {\n",
       "        text-align: right;\n",
       "    }\n",
       "</style>\n",
       "<table border=\"1\" class=\"dataframe\">\n",
       "  <thead>\n",
       "    <tr style=\"text-align: right;\">\n",
       "      <th></th>\n",
       "      <th>ID</th>\n",
       "      <th>Timestamp</th>\n",
       "      <th>Choose your gender</th>\n",
       "      <th>Age</th>\n",
       "      <th>What is your course?</th>\n",
       "      <th>Your current year of Study</th>\n",
       "      <th>What is your CGPA?</th>\n",
       "      <th>Marital status</th>\n",
       "      <th>Do you have Depression?</th>\n",
       "      <th>Do you have Anxiety?</th>\n",
       "      <th>Do you have Panic attack?</th>\n",
       "      <th>Did you seek any specialist for a treatment?</th>\n",
       "    </tr>\n",
       "  </thead>\n",
       "  <tbody>\n",
       "    <tr>\n",
       "      <th>0</th>\n",
       "      <td>1</td>\n",
       "      <td>08-07-2020 12:02</td>\n",
       "      <td>Female</td>\n",
       "      <td>18.0</td>\n",
       "      <td>Engineering</td>\n",
       "      <td>year 1</td>\n",
       "      <td>3.00 - 3.49</td>\n",
       "      <td>No</td>\n",
       "      <td>Yes</td>\n",
       "      <td>No</td>\n",
       "      <td>Yes</td>\n",
       "      <td>No</td>\n",
       "    </tr>\n",
       "    <tr>\n",
       "      <th>1</th>\n",
       "      <td>2</td>\n",
       "      <td>08-07-2020 12:04</td>\n",
       "      <td>Male</td>\n",
       "      <td>21.0</td>\n",
       "      <td>Islamic education</td>\n",
       "      <td>year 2</td>\n",
       "      <td>3.00 - 3.49</td>\n",
       "      <td>No</td>\n",
       "      <td>No</td>\n",
       "      <td>Yes</td>\n",
       "      <td>No</td>\n",
       "      <td>No</td>\n",
       "    </tr>\n",
       "    <tr>\n",
       "      <th>2</th>\n",
       "      <td>3</td>\n",
       "      <td>08-07-2020 12:05</td>\n",
       "      <td>Male</td>\n",
       "      <td>19.0</td>\n",
       "      <td>BIT</td>\n",
       "      <td>Year 1</td>\n",
       "      <td>3.00 - 3.49</td>\n",
       "      <td>No</td>\n",
       "      <td>Yes</td>\n",
       "      <td>Yes</td>\n",
       "      <td>Yes</td>\n",
       "      <td>No</td>\n",
       "    </tr>\n",
       "    <tr>\n",
       "      <th>3</th>\n",
       "      <td>4</td>\n",
       "      <td>08-07-2020 12:06</td>\n",
       "      <td>Female</td>\n",
       "      <td>22.0</td>\n",
       "      <td>Laws</td>\n",
       "      <td>year 3</td>\n",
       "      <td>3.00 - 3.49</td>\n",
       "      <td>Yes</td>\n",
       "      <td>Yes</td>\n",
       "      <td>No</td>\n",
       "      <td>No</td>\n",
       "      <td>No</td>\n",
       "    </tr>\n",
       "    <tr>\n",
       "      <th>4</th>\n",
       "      <td>5</td>\n",
       "      <td>08-07-2020 12:13</td>\n",
       "      <td>Male</td>\n",
       "      <td>23.0</td>\n",
       "      <td>Mathemathics</td>\n",
       "      <td>year 4</td>\n",
       "      <td>3.00 - 3.49</td>\n",
       "      <td>No</td>\n",
       "      <td>No</td>\n",
       "      <td>No</td>\n",
       "      <td>No</td>\n",
       "      <td>No</td>\n",
       "    </tr>\n",
       "  </tbody>\n",
       "</table>\n",
       "</div>"
      ],
      "text/plain": [
       "   ID         Timestamp Choose your gender   Age What is your course?  \\\n",
       "0   1  08-07-2020 12:02             Female  18.0          Engineering   \n",
       "1   2  08-07-2020 12:04               Male  21.0    Islamic education   \n",
       "2   3  08-07-2020 12:05               Male  19.0                  BIT   \n",
       "3   4  08-07-2020 12:06             Female  22.0                 Laws   \n",
       "4   5  08-07-2020 12:13               Male  23.0         Mathemathics   \n",
       "\n",
       "  Your current year of Study What is your CGPA? Marital status  \\\n",
       "0                     year 1        3.00 - 3.49             No   \n",
       "1                     year 2        3.00 - 3.49             No   \n",
       "2                     Year 1        3.00 - 3.49             No   \n",
       "3                     year 3        3.00 - 3.49            Yes   \n",
       "4                     year 4        3.00 - 3.49             No   \n",
       "\n",
       "  Do you have Depression? Do you have Anxiety? Do you have Panic attack?  \\\n",
       "0                     Yes                   No                       Yes   \n",
       "1                      No                  Yes                        No   \n",
       "2                     Yes                  Yes                       Yes   \n",
       "3                     Yes                   No                        No   \n",
       "4                      No                   No                        No   \n",
       "\n",
       "  Did you seek any specialist for a treatment?  \n",
       "0                                           No  \n",
       "1                                           No  \n",
       "2                                           No  \n",
       "3                                           No  \n",
       "4                                           No  "
      ]
     },
     "execution_count": 2,
     "metadata": {},
     "output_type": "execute_result"
    }
   ],
   "source": [
    "df = pd.read_csv('Student_health.csv')\n",
    "df.head()"
   ]
  },
  {
   "cell_type": "code",
   "execution_count": 3,
   "id": "5410e2e1",
   "metadata": {},
   "outputs": [
    {
     "data": {
      "text/html": [
       "<div>\n",
       "<style scoped>\n",
       "    .dataframe tbody tr th:only-of-type {\n",
       "        vertical-align: middle;\n",
       "    }\n",
       "\n",
       "    .dataframe tbody tr th {\n",
       "        vertical-align: top;\n",
       "    }\n",
       "\n",
       "    .dataframe thead th {\n",
       "        text-align: right;\n",
       "    }\n",
       "</style>\n",
       "<table border=\"1\" class=\"dataframe\">\n",
       "  <thead>\n",
       "    <tr style=\"text-align: right;\">\n",
       "      <th></th>\n",
       "      <th>ID</th>\n",
       "      <th>Choose your gender</th>\n",
       "      <th>What is your course?</th>\n",
       "      <th>Your current year of Study</th>\n",
       "      <th>What is your CGPA?</th>\n",
       "      <th>Marital status</th>\n",
       "      <th>Do you have Depression?</th>\n",
       "      <th>Do you have Anxiety?</th>\n",
       "      <th>Do you have Panic attack?</th>\n",
       "      <th>Did you seek any specialist for a treatment?</th>\n",
       "    </tr>\n",
       "  </thead>\n",
       "  <tbody>\n",
       "    <tr>\n",
       "      <th>0</th>\n",
       "      <td>1</td>\n",
       "      <td>Female</td>\n",
       "      <td>Engineering</td>\n",
       "      <td>year 1</td>\n",
       "      <td>3.00 - 3.49</td>\n",
       "      <td>No</td>\n",
       "      <td>Yes</td>\n",
       "      <td>No</td>\n",
       "      <td>Yes</td>\n",
       "      <td>No</td>\n",
       "    </tr>\n",
       "    <tr>\n",
       "      <th>1</th>\n",
       "      <td>2</td>\n",
       "      <td>Male</td>\n",
       "      <td>Islamic education</td>\n",
       "      <td>year 2</td>\n",
       "      <td>3.00 - 3.49</td>\n",
       "      <td>No</td>\n",
       "      <td>No</td>\n",
       "      <td>Yes</td>\n",
       "      <td>No</td>\n",
       "      <td>No</td>\n",
       "    </tr>\n",
       "    <tr>\n",
       "      <th>2</th>\n",
       "      <td>3</td>\n",
       "      <td>Male</td>\n",
       "      <td>BIT</td>\n",
       "      <td>Year 1</td>\n",
       "      <td>3.00 - 3.49</td>\n",
       "      <td>No</td>\n",
       "      <td>Yes</td>\n",
       "      <td>Yes</td>\n",
       "      <td>Yes</td>\n",
       "      <td>No</td>\n",
       "    </tr>\n",
       "    <tr>\n",
       "      <th>3</th>\n",
       "      <td>4</td>\n",
       "      <td>Female</td>\n",
       "      <td>Laws</td>\n",
       "      <td>year 3</td>\n",
       "      <td>3.00 - 3.49</td>\n",
       "      <td>Yes</td>\n",
       "      <td>Yes</td>\n",
       "      <td>No</td>\n",
       "      <td>No</td>\n",
       "      <td>No</td>\n",
       "    </tr>\n",
       "    <tr>\n",
       "      <th>4</th>\n",
       "      <td>5</td>\n",
       "      <td>Male</td>\n",
       "      <td>Mathemathics</td>\n",
       "      <td>year 4</td>\n",
       "      <td>3.00 - 3.49</td>\n",
       "      <td>No</td>\n",
       "      <td>No</td>\n",
       "      <td>No</td>\n",
       "      <td>No</td>\n",
       "      <td>No</td>\n",
       "    </tr>\n",
       "  </tbody>\n",
       "</table>\n",
       "</div>"
      ],
      "text/plain": [
       "   ID Choose your gender What is your course? Your current year of Study  \\\n",
       "0   1             Female          Engineering                     year 1   \n",
       "1   2               Male    Islamic education                     year 2   \n",
       "2   3               Male                  BIT                     Year 1   \n",
       "3   4             Female                 Laws                     year 3   \n",
       "4   5               Male         Mathemathics                     year 4   \n",
       "\n",
       "  What is your CGPA? Marital status Do you have Depression?  \\\n",
       "0        3.00 - 3.49             No                     Yes   \n",
       "1        3.00 - 3.49             No                      No   \n",
       "2        3.00 - 3.49             No                     Yes   \n",
       "3        3.00 - 3.49            Yes                     Yes   \n",
       "4        3.00 - 3.49             No                      No   \n",
       "\n",
       "  Do you have Anxiety? Do you have Panic attack?  \\\n",
       "0                   No                       Yes   \n",
       "1                  Yes                        No   \n",
       "2                  Yes                       Yes   \n",
       "3                   No                        No   \n",
       "4                   No                        No   \n",
       "\n",
       "  Did you seek any specialist for a treatment?  \n",
       "0                                           No  \n",
       "1                                           No  \n",
       "2                                           No  \n",
       "3                                           No  \n",
       "4                                           No  "
      ]
     },
     "execution_count": 3,
     "metadata": {},
     "output_type": "execute_result"
    }
   ],
   "source": [
    "df  = df.drop(['Timestamp'], axis=1)\n",
    "df  = df.drop(['Age'], axis=1)\n",
    "df.head()"
   ]
  },
  {
   "cell_type": "code",
   "execution_count": 4,
   "id": "64a4e610",
   "metadata": {},
   "outputs": [
    {
     "data": {
      "text/html": [
       "<div>\n",
       "<style scoped>\n",
       "    .dataframe tbody tr th:only-of-type {\n",
       "        vertical-align: middle;\n",
       "    }\n",
       "\n",
       "    .dataframe tbody tr th {\n",
       "        vertical-align: top;\n",
       "    }\n",
       "\n",
       "    .dataframe thead th {\n",
       "        text-align: right;\n",
       "    }\n",
       "</style>\n",
       "<table border=\"1\" class=\"dataframe\">\n",
       "  <thead>\n",
       "    <tr style=\"text-align: right;\">\n",
       "      <th></th>\n",
       "      <th>ID</th>\n",
       "      <th>Choose your gender</th>\n",
       "      <th>What is your course?</th>\n",
       "      <th>Your current year of Study</th>\n",
       "      <th>What is your CGPA?</th>\n",
       "    </tr>\n",
       "  </thead>\n",
       "  <tbody>\n",
       "    <tr>\n",
       "      <th>0</th>\n",
       "      <td>1</td>\n",
       "      <td>Female</td>\n",
       "      <td>Engineering</td>\n",
       "      <td>year 1</td>\n",
       "      <td>3.00 - 3.49</td>\n",
       "    </tr>\n",
       "    <tr>\n",
       "      <th>1</th>\n",
       "      <td>2</td>\n",
       "      <td>Male</td>\n",
       "      <td>Islamic education</td>\n",
       "      <td>year 2</td>\n",
       "      <td>3.00 - 3.49</td>\n",
       "    </tr>\n",
       "    <tr>\n",
       "      <th>2</th>\n",
       "      <td>3</td>\n",
       "      <td>Male</td>\n",
       "      <td>BIT</td>\n",
       "      <td>Year 1</td>\n",
       "      <td>3.00 - 3.49</td>\n",
       "    </tr>\n",
       "    <tr>\n",
       "      <th>3</th>\n",
       "      <td>4</td>\n",
       "      <td>Female</td>\n",
       "      <td>Laws</td>\n",
       "      <td>year 3</td>\n",
       "      <td>3.00 - 3.49</td>\n",
       "    </tr>\n",
       "    <tr>\n",
       "      <th>4</th>\n",
       "      <td>5</td>\n",
       "      <td>Male</td>\n",
       "      <td>Mathemathics</td>\n",
       "      <td>year 4</td>\n",
       "      <td>3.00 - 3.49</td>\n",
       "    </tr>\n",
       "  </tbody>\n",
       "</table>\n",
       "</div>"
      ],
      "text/plain": [
       "   ID Choose your gender What is your course? Your current year of Study  \\\n",
       "0   1             Female          Engineering                     year 1   \n",
       "1   2               Male    Islamic education                     year 2   \n",
       "2   3               Male                  BIT                     Year 1   \n",
       "3   4             Female                 Laws                     year 3   \n",
       "4   5               Male         Mathemathics                     year 4   \n",
       "\n",
       "  What is your CGPA?  \n",
       "0        3.00 - 3.49  \n",
       "1        3.00 - 3.49  \n",
       "2        3.00 - 3.49  \n",
       "3        3.00 - 3.49  \n",
       "4        3.00 - 3.49  "
      ]
     },
     "execution_count": 4,
     "metadata": {},
     "output_type": "execute_result"
    }
   ],
   "source": [
    "df2 = df.iloc[:,[0,1,2,3,4]]\n",
    "df2.head()"
   ]
  },
  {
   "cell_type": "code",
   "execution_count": 6,
   "id": "978b5439",
   "metadata": {},
   "outputs": [],
   "source": [
    "df2.to_csv('Student.csv', index=True) "
   ]
  },
  {
   "cell_type": "code",
   "execution_count": 8,
   "id": "46ff5f44",
   "metadata": {},
   "outputs": [
    {
     "data": {
      "text/html": [
       "<div>\n",
       "<style scoped>\n",
       "    .dataframe tbody tr th:only-of-type {\n",
       "        vertical-align: middle;\n",
       "    }\n",
       "\n",
       "    .dataframe tbody tr th {\n",
       "        vertical-align: top;\n",
       "    }\n",
       "\n",
       "    .dataframe thead th {\n",
       "        text-align: right;\n",
       "    }\n",
       "</style>\n",
       "<table border=\"1\" class=\"dataframe\">\n",
       "  <thead>\n",
       "    <tr style=\"text-align: right;\">\n",
       "      <th></th>\n",
       "      <th>Marital status</th>\n",
       "      <th>Do you have Depression?</th>\n",
       "      <th>Do you have Anxiety?</th>\n",
       "      <th>Do you have Panic attack?</th>\n",
       "      <th>Did you seek any specialist for a treatment?</th>\n",
       "    </tr>\n",
       "  </thead>\n",
       "  <tbody>\n",
       "    <tr>\n",
       "      <th>0</th>\n",
       "      <td>No</td>\n",
       "      <td>Yes</td>\n",
       "      <td>No</td>\n",
       "      <td>Yes</td>\n",
       "      <td>No</td>\n",
       "    </tr>\n",
       "    <tr>\n",
       "      <th>1</th>\n",
       "      <td>No</td>\n",
       "      <td>No</td>\n",
       "      <td>Yes</td>\n",
       "      <td>No</td>\n",
       "      <td>No</td>\n",
       "    </tr>\n",
       "    <tr>\n",
       "      <th>2</th>\n",
       "      <td>No</td>\n",
       "      <td>Yes</td>\n",
       "      <td>Yes</td>\n",
       "      <td>Yes</td>\n",
       "      <td>No</td>\n",
       "    </tr>\n",
       "    <tr>\n",
       "      <th>3</th>\n",
       "      <td>Yes</td>\n",
       "      <td>Yes</td>\n",
       "      <td>No</td>\n",
       "      <td>No</td>\n",
       "      <td>No</td>\n",
       "    </tr>\n",
       "    <tr>\n",
       "      <th>4</th>\n",
       "      <td>No</td>\n",
       "      <td>No</td>\n",
       "      <td>No</td>\n",
       "      <td>No</td>\n",
       "      <td>No</td>\n",
       "    </tr>\n",
       "  </tbody>\n",
       "</table>\n",
       "</div>"
      ],
      "text/plain": [
       "  Marital status Do you have Depression? Do you have Anxiety?  \\\n",
       "0             No                     Yes                   No   \n",
       "1             No                      No                  Yes   \n",
       "2             No                     Yes                  Yes   \n",
       "3            Yes                     Yes                   No   \n",
       "4             No                      No                   No   \n",
       "\n",
       "  Do you have Panic attack? Did you seek any specialist for a treatment?  \n",
       "0                       Yes                                           No  \n",
       "1                        No                                           No  \n",
       "2                       Yes                                           No  \n",
       "3                        No                                           No  \n",
       "4                        No                                           No  "
      ]
     },
     "execution_count": 8,
     "metadata": {},
     "output_type": "execute_result"
    }
   ],
   "source": [
    "df3 = df.iloc[:,[5,6,7,8,9]]\n",
    "df3.head()"
   ]
  },
  {
   "cell_type": "code",
   "execution_count": 9,
   "id": "9ad4faec",
   "metadata": {},
   "outputs": [],
   "source": [
    "df3.to_csv('Stud_info.csv', index=True)"
   ]
  },
  {
   "cell_type": "code",
   "execution_count": 102,
   "id": "ae4eb295",
   "metadata": {},
   "outputs": [],
   "source": [
    "import mysql.connector\n",
    "from getpass import getpass"
   ]
  },
  {
   "cell_type": "code",
   "execution_count": 103,
   "id": "10dcc74c",
   "metadata": {},
   "outputs": [
    {
     "name": "stdout",
     "output_type": "stream",
     "text": [
      "Enter your MySQL username: root\n",
      "Enter your MySQL password: ········\n"
     ]
    }
   ],
   "source": [
    "username = input(\"Enter your MySQL username: \")\n",
    "password = getpass(\"Enter your MySQL password: \")"
   ]
  },
  {
   "cell_type": "code",
   "execution_count": 104,
   "id": "aa450db2",
   "metadata": {},
   "outputs": [],
   "source": [
    "host = \"localhost\"  # Change this to your MySQL server hostname or IP address\n",
    "database = \"mysql\"  # Change this to the name of your data"
   ]
  },
  {
   "cell_type": "code",
   "execution_count": 105,
   "id": "c47d87c8",
   "metadata": {},
   "outputs": [
    {
     "name": "stdout",
     "output_type": "stream",
     "text": [
      "Connected to the MySQL server\n"
     ]
    }
   ],
   "source": [
    "try:\n",
    "    # Establish a connection to the MySQL server\n",
    "    connection = mysql.connector.connect(\n",
    "        host=host,\n",
    "        user=username,\n",
    "        password=password,\n",
    "    )\n",
    "\n",
    "    if connection.is_connected():\n",
    "        print(\"Connected to the MySQL server\")\n",
    "except mysql.connector.Error as e:\n",
    "    print(f\"Error: {e}\")    "
   ]
  },
  {
   "cell_type": "code",
   "execution_count": 106,
   "id": "07376de3",
   "metadata": {},
   "outputs": [],
   "source": [
    "mycursor = connection.cursor()"
   ]
  },
  {
   "cell_type": "code",
   "execution_count": 107,
   "id": "d9a03ca7",
   "metadata": {},
   "outputs": [],
   "source": [
    "mycursor.execute(\"use mysql\")"
   ]
  },
  {
   "cell_type": "code",
   "execution_count": 84,
   "id": "cfffd726",
   "metadata": {},
   "outputs": [],
   "source": [
    "mycursor.execute(\"create table Student(ID varchar(20) Not Null,Gender varchar(10) Not Null,Course varchar(50) Not Null,CGPA varchar(50) Not Null, constraint stud_pk primary key(ID))\")"
   ]
  },
  {
   "cell_type": "code",
   "execution_count": 85,
   "id": "7ab923f5",
   "metadata": {},
   "outputs": [],
   "source": [
    "mycursor.execute(\"Create table Stud_info (ID varchar(20) Not Null,Marital_Status varchar(10),Depression varchar(10),Anxiety varchar(10),Panic varchar(10),Treatment varchar(10),Constraint info_pk primary key (ID),Constraint foreign key (ID) references Student(ID))\")"
   ]
  },
  {
   "cell_type": "markdown",
   "id": "ba47b3e9",
   "metadata": {},
   "source": [
    "# Inserting values"
   ]
  },
  {
   "cell_type": "code",
   "execution_count": 61,
   "id": "c023f716",
   "metadata": {},
   "outputs": [],
   "source": [
    "df2  = df2.drop(['Your current year of Study'], axis=1)"
   ]
  },
  {
   "cell_type": "code",
   "execution_count": 75,
   "id": "bb31b028",
   "metadata": {},
   "outputs": [
    {
     "data": {
      "text/html": [
       "<div>\n",
       "<style scoped>\n",
       "    .dataframe tbody tr th:only-of-type {\n",
       "        vertical-align: middle;\n",
       "    }\n",
       "\n",
       "    .dataframe tbody tr th {\n",
       "        vertical-align: top;\n",
       "    }\n",
       "\n",
       "    .dataframe thead th {\n",
       "        text-align: right;\n",
       "    }\n",
       "</style>\n",
       "<table border=\"1\" class=\"dataframe\">\n",
       "  <thead>\n",
       "    <tr style=\"text-align: right;\">\n",
       "      <th></th>\n",
       "      <th>ID</th>\n",
       "      <th>Choose your gender</th>\n",
       "      <th>What is your course?</th>\n",
       "      <th>What is your CGPA?</th>\n",
       "    </tr>\n",
       "  </thead>\n",
       "  <tbody>\n",
       "    <tr>\n",
       "      <th>0</th>\n",
       "      <td>1</td>\n",
       "      <td>Female</td>\n",
       "      <td>Engineering</td>\n",
       "      <td>3.00 - 3.49</td>\n",
       "    </tr>\n",
       "    <tr>\n",
       "      <th>1</th>\n",
       "      <td>2</td>\n",
       "      <td>Male</td>\n",
       "      <td>Islamic education</td>\n",
       "      <td>3.00 - 3.49</td>\n",
       "    </tr>\n",
       "    <tr>\n",
       "      <th>2</th>\n",
       "      <td>3</td>\n",
       "      <td>Male</td>\n",
       "      <td>BIT</td>\n",
       "      <td>3.00 - 3.49</td>\n",
       "    </tr>\n",
       "    <tr>\n",
       "      <th>3</th>\n",
       "      <td>4</td>\n",
       "      <td>Female</td>\n",
       "      <td>Laws</td>\n",
       "      <td>3.00 - 3.49</td>\n",
       "    </tr>\n",
       "    <tr>\n",
       "      <th>4</th>\n",
       "      <td>5</td>\n",
       "      <td>Male</td>\n",
       "      <td>Mathemathics</td>\n",
       "      <td>3.00 - 3.49</td>\n",
       "    </tr>\n",
       "  </tbody>\n",
       "</table>\n",
       "</div>"
      ],
      "text/plain": [
       "   ID Choose your gender What is your course? What is your CGPA?\n",
       "0   1             Female          Engineering        3.00 - 3.49\n",
       "1   2               Male    Islamic education        3.00 - 3.49\n",
       "2   3               Male                  BIT        3.00 - 3.49\n",
       "3   4             Female                 Laws        3.00 - 3.49\n",
       "4   5               Male         Mathemathics        3.00 - 3.49"
      ]
     },
     "execution_count": 75,
     "metadata": {},
     "output_type": "execute_result"
    }
   ],
   "source": [
    "df2.head()"
   ]
  },
  {
   "cell_type": "code",
   "execution_count": null,
   "id": "230fe9a2",
   "metadata": {},
   "outputs": [],
   "source": [
    "df.to_csv('file1.csv')\n",
    "for i,row in df2.iterrows():\n",
    "    sql = \"insert into mysql.student values (%s,%s,%s,%s)\"\n",
    "    values = (row['ID'],row['Choose your gender'],row['What is your course?'],row['What is your CGPA?'])\n",
    "    mycursor.execute(sql,values)\n",
    "    connection.commit()"
   ]
  },
  {
   "cell_type": "code",
   "execution_count": 88,
   "id": "1c01e6d1",
   "metadata": {},
   "outputs": [
    {
     "name": "stdout",
     "output_type": "stream",
     "text": [
      "('1', 'Female', 'Engineering', '3.00 - 3.49')\n",
      "('10', 'Male', 'Irkhs', '3.50 - 4.00')\n",
      "('100', 'Female', 'Pendidikan Islam', '3.50 - 4.00')\n",
      "('101', 'Male', 'Biomedical science', '3.00 - 3.49')\n",
      "('11', 'Female', 'Psychology', '3.50 - 4.00')\n",
      "('12', 'Female', 'Engineering', '3.50 - 4.00')\n",
      "('13', 'Female', 'BCS', '3.00 - 3.49')\n",
      "('14', 'Male', 'Engineering', '3.00 - 3.49')\n",
      "('15', 'Female', 'KENMS', '3.50 - 4.00')\n",
      "('16', 'Male', 'BCS', '3.50 - 4.00')\n",
      "('17', 'Female', 'Accounting ', '3.00 - 3.49')\n",
      "('18', 'Female', 'ENM', '3.00 - 3.49')\n",
      "('19', 'Female', 'BIT', '3.50 - 4.00')\n",
      "('2', 'Male', 'Islamic education', '3.00 - 3.49')\n",
      "('20', 'Female', 'Marine science', '3.50 - 4.00')\n",
      "('21', 'Female', 'Engineering', '3.00 - 3.49')\n",
      "('22', 'Female', 'KOE', '3.00 - 3.49')\n",
      "('23', 'Female', 'BCS', '3.50 - 4.00')\n",
      "('24', 'Female', 'Engineering', '3.00 - 3.49')\n",
      "('25', 'Female', 'BCS', '3.50 - 4.00')\n",
      "('26', 'Female', 'Banking Studies', '3.50 - 4.00')\n",
      "('27', 'Female', 'Engineering', '3.50 - 4.00')\n",
      "('28', 'Male', 'Engineering', '3.00 - 3.49')\n",
      "('29', 'Female', 'BIT', '3.50 - 4.00')\n",
      "('3', 'Male', 'BIT', '3.00 - 3.49')\n",
      "('30', 'Female', 'BCS', '3.50 - 4.00')\n",
      "('31', 'Female', 'Business Administration', '3.00 - 3.49')\n",
      "('32', 'Male', 'BCS', '3.00 - 3.49')\n",
      "('33', 'Male', 'BCS', '3.50 - 4.00')\n",
      "('34', 'Male', 'BCS', '3.50 - 4.00')\n",
      "('35', 'Female', 'BIT', '3.00 - 3.49')\n",
      "('36', 'Female', 'Engineering', '2.00 - 2.49')\n",
      "('37', 'Female', 'Law', '3.00 - 3.49')\n",
      "('38', 'Female', 'BIT', '2.50 - 2.99')\n",
      "('39', 'Female', 'KIRKHS', '3.50 - 4.00')\n",
      "('4', 'Female', 'Laws', '3.00 - 3.49')\n",
      "('40', 'Female', 'Engineering', '2.50 - 2.99')\n",
      "('41', 'Female', 'BIT', '3.00 - 3.49')\n",
      "('42', 'Female', 'Engineering', '3.50 - 4.00')\n",
      "('43', 'Female', 'Usuluddin ', '3.00 - 3.49')\n",
      "('44', 'Male', 'BIT', '0 - 1.99')\n",
      "('45', 'Male', 'TAASL', '3.50 - 4.00')\n",
      "('46', 'Male', 'BCS', '3.50 - 4.00')\n",
      "('47', 'Female', 'Engineering', '3.50 - 4.00')\n",
      "('48', 'Female', 'Engine', '3.50 - 4.00')\n",
      "('49', 'Male', 'BCS', '3.00 - 3.49')\n",
      "('5', 'Male', 'Mathemathics', '3.00 - 3.49')\n",
      "('50', 'Female', 'BCS', '3.50 - 4.00')\n",
      "('51', 'Female', 'ALA', '2.50 - 2.99')\n",
      "('52', 'Female', 'BCS', '3.50 - 4.00')\n",
      "('53', 'Female', 'Biomedical science', '3.00 - 3.49')\n",
      "('54', 'Female', 'koe', '3.00 - 3.49')\n",
      "('55', 'Female', 'BCS', '3.50 - 4.00')\n",
      "('56', 'Male', 'BCS', '3.00 - 3.49')\n",
      "('57', 'Male', 'Kirkhs', '3.50 - 4.00')\n",
      "('58', 'Female', 'BENL', '3.00 - 3.49')\n",
      "('59', 'Female', 'BCS', '3.50 - 4.00')\n",
      "('6', 'Male', 'Engineering', '3.50 - 4.00')\n",
      "('60', 'Female', 'Benl', '3.00 - 3.49')\n",
      "('61', 'Female', 'IT', '3.00 - 3.49')\n",
      "('62', 'Female', 'BCS', '3.50 - 4.00')\n",
      "('63', 'Female', 'CTS', '3.50 - 4.00')\n",
      "('64', 'Female', 'engin', '3.50 - 4.00')\n",
      "('65', 'Female', 'Engine', '3.50 - 4.00')\n",
      "('66', 'Female', 'Econs', '3.50 - 4.00')\n",
      "('67', 'Female', 'KOE', '3.00 - 3.49')\n",
      "('68', 'Male', 'MHSC', '3.00 - 3.49')\n",
      "('69', 'Female', 'Malcom', '3.50 - 4.00')\n",
      "('7', 'Female', 'Pendidikan islam', '3.50 - 4.00 ')\n",
      "('70', 'Female', 'Kop', '3.00 - 3.49')\n",
      "('71', 'Female', 'Biomedical science', '3.00 - 3.49')\n",
      "('72', 'Female', 'Laws', '3.50 - 4.00')\n",
      "('73', 'Female', 'BIT', '3.00 - 3.49')\n",
      "('74', 'Male', 'Biomedical science', '0 - 1.99')\n",
      "('75', 'Male', 'BIT', '3.50 - 4.00')\n",
      "('76', 'Female', 'KOE', '3.50 - 4.00')\n",
      "('77', 'Female', 'Engineering', '3.00 - 3.49')\n",
      "('78', 'Female', 'Human Sciences ', '3.00 - 3.49')\n",
      "('79', 'Female', 'Biotechnology', '0 - 1.99')\n",
      "('8', 'Female', 'BCS', '3.50 - 4.00')\n",
      "('80', 'Female', 'Engineering', '3.50 - 4.00')\n",
      "('81', 'Female', 'Communication ', '3.50 - 4.00')\n",
      "('82', 'Female', 'Diploma Nursing', '3.50 - 4.00')\n",
      "('83', 'Female', 'Engineering', '3.00 - 3.49')\n",
      "('84', 'Female', 'Pendidikan Islam ', '3.00 - 3.49')\n",
      "('85', 'Male', 'Radiography', '3.00 - 3.49')\n",
      "('86', 'Female', 'psychology', '3.50 - 4.00')\n",
      "('87', 'Female', 'Fiqh fatwa ', '3.00 - 3.49')\n",
      "('88', 'Female', 'psychology', '3.50 - 4.00')\n",
      "('89', 'Male', 'BIT', '3.00 - 3.49')\n",
      "('9', 'Female', 'Human Resources', '2.50 - 2.99')\n",
      "('90', 'Male', 'Engineering', '2.00 - 2.49')\n",
      "('91', 'Female', 'DIPLOMA TESL', '3.50 - 4.00')\n",
      "('92', 'Male', 'Koe', '3.00 - 3.49')\n",
      "('93', 'Female', 'KOE', '3.00 - 3.49')\n",
      "('94', 'Female', 'BENL', '3.00 - 3.49')\n",
      "('95', 'Female', 'Fiqh', '0 - 1.99')\n",
      "('96', 'Female', 'Islamic Education', '3.50 - 4.00')\n",
      "('97', 'Female', 'BCS', '3.50 - 4.00')\n",
      "('98', 'Male', 'Engineering', '3.00 - 3.49')\n",
      "('99', 'Female', 'Nursing ', '3.50 - 4.00')\n"
     ]
    }
   ],
   "source": [
    "mycursor.execute(\"select * from student;\")\n",
    "for x in mycursor:\n",
    "    print(x)"
   ]
  },
  {
   "cell_type": "code",
   "execution_count": 94,
   "id": "4edb3aa9",
   "metadata": {},
   "outputs": [],
   "source": [
    "temp = df2.iloc[:,0]\n",
    "df3.insert(0, 'ID', temp)"
   ]
  },
  {
   "cell_type": "code",
   "execution_count": 95,
   "id": "79167ef7",
   "metadata": {},
   "outputs": [
    {
     "data": {
      "text/html": [
       "<div>\n",
       "<style scoped>\n",
       "    .dataframe tbody tr th:only-of-type {\n",
       "        vertical-align: middle;\n",
       "    }\n",
       "\n",
       "    .dataframe tbody tr th {\n",
       "        vertical-align: top;\n",
       "    }\n",
       "\n",
       "    .dataframe thead th {\n",
       "        text-align: right;\n",
       "    }\n",
       "</style>\n",
       "<table border=\"1\" class=\"dataframe\">\n",
       "  <thead>\n",
       "    <tr style=\"text-align: right;\">\n",
       "      <th></th>\n",
       "      <th>ID</th>\n",
       "      <th>Marital status</th>\n",
       "      <th>Do you have Depression?</th>\n",
       "      <th>Do you have Anxiety?</th>\n",
       "      <th>Do you have Panic attack?</th>\n",
       "      <th>Did you seek any specialist for a treatment?</th>\n",
       "    </tr>\n",
       "  </thead>\n",
       "  <tbody>\n",
       "    <tr>\n",
       "      <th>0</th>\n",
       "      <td>1</td>\n",
       "      <td>No</td>\n",
       "      <td>Yes</td>\n",
       "      <td>No</td>\n",
       "      <td>Yes</td>\n",
       "      <td>No</td>\n",
       "    </tr>\n",
       "    <tr>\n",
       "      <th>1</th>\n",
       "      <td>2</td>\n",
       "      <td>No</td>\n",
       "      <td>No</td>\n",
       "      <td>Yes</td>\n",
       "      <td>No</td>\n",
       "      <td>No</td>\n",
       "    </tr>\n",
       "    <tr>\n",
       "      <th>2</th>\n",
       "      <td>3</td>\n",
       "      <td>No</td>\n",
       "      <td>Yes</td>\n",
       "      <td>Yes</td>\n",
       "      <td>Yes</td>\n",
       "      <td>No</td>\n",
       "    </tr>\n",
       "    <tr>\n",
       "      <th>3</th>\n",
       "      <td>4</td>\n",
       "      <td>Yes</td>\n",
       "      <td>Yes</td>\n",
       "      <td>No</td>\n",
       "      <td>No</td>\n",
       "      <td>No</td>\n",
       "    </tr>\n",
       "    <tr>\n",
       "      <th>4</th>\n",
       "      <td>5</td>\n",
       "      <td>No</td>\n",
       "      <td>No</td>\n",
       "      <td>No</td>\n",
       "      <td>No</td>\n",
       "      <td>No</td>\n",
       "    </tr>\n",
       "  </tbody>\n",
       "</table>\n",
       "</div>"
      ],
      "text/plain": [
       "   ID Marital status Do you have Depression? Do you have Anxiety?  \\\n",
       "0   1             No                     Yes                   No   \n",
       "1   2             No                      No                  Yes   \n",
       "2   3             No                     Yes                  Yes   \n",
       "3   4            Yes                     Yes                   No   \n",
       "4   5             No                      No                   No   \n",
       "\n",
       "  Do you have Panic attack? Did you seek any specialist for a treatment?  \n",
       "0                       Yes                                           No  \n",
       "1                        No                                           No  \n",
       "2                       Yes                                           No  \n",
       "3                        No                                           No  \n",
       "4                        No                                           No  "
      ]
     },
     "execution_count": 95,
     "metadata": {},
     "output_type": "execute_result"
    }
   ],
   "source": [
    "df3.head()"
   ]
  },
  {
   "cell_type": "code",
   "execution_count": 98,
   "id": "43db2794",
   "metadata": {},
   "outputs": [],
   "source": [
    " for i,row in df3.iterrows():\n",
    "    sql = \"insert into mysql.stud_info values (%s,%s,%s,%s,%s,%s)\"\n",
    "    values = (row['ID'],row['Marital status'],row['Do you have Depression?'],row['Do you have Anxiety?'],row['Do you have Panic attack?'],row['Did you seek any specialist for a treatment?'])\n",
    "    mycursor.execute(sql,values)\n",
    "    connection.commit()"
   ]
  },
  {
   "cell_type": "code",
   "execution_count": 99,
   "id": "e7835607",
   "metadata": {},
   "outputs": [
    {
     "name": "stdout",
     "output_type": "stream",
     "text": [
      "('1', 'No', 'Yes', 'No', 'Yes', 'No')\n",
      "('10', 'No', 'No', 'Yes', 'Yes', 'No')\n",
      "('100', 'No', 'No', 'No', 'No', 'No')\n",
      "('101', 'No', 'No', 'No', 'No', 'No')\n",
      "('11', 'No', 'No', 'No', 'No', 'No')\n",
      "('12', 'Yes', 'Yes', 'No', 'No', 'No')\n",
      "('13', 'No', 'Yes', 'No', 'No', 'No')\n",
      "('14', 'No', 'No', 'No', 'No', 'No')\n",
      "('15', 'No', 'No', 'Yes', 'No', 'No')\n",
      "('16', 'No', 'No', 'No', 'No', 'No')\n",
      "('17', 'No', 'No', 'No', 'No', 'No')\n",
      "('18', 'Yes', 'Yes', 'Yes', 'Yes', 'No')\n",
      "('19', 'No', 'No', 'Yes', 'No', 'No')\n",
      "('2', 'No', 'No', 'Yes', 'No', 'No')\n",
      "('20', 'Yes', 'Yes', 'Yes', 'Yes', 'No')\n",
      "('21', 'No', 'No', 'No', 'Yes', 'No')\n",
      "('22', 'No', 'No', 'No', 'No', 'No')\n",
      "('23', 'No', 'No', 'No', 'No', 'No')\n",
      "('24', 'No', 'No', 'No', 'No', 'No')\n",
      "('25', 'No', 'Yes', 'Yes', 'Yes', 'No')\n",
      "('26', 'No', 'No', 'No', 'No', 'No')\n",
      "('27', 'No', 'No', 'No', 'No', 'No')\n",
      "('28', 'Yes', 'Yes', 'Yes', 'No', 'No')\n",
      "('29', 'Yes', 'Yes', 'Yes', 'Yes', 'Yes')\n",
      "('3', 'No', 'Yes', 'Yes', 'Yes', 'No')\n",
      "('30', 'No', 'No', 'No', 'No', 'No')\n",
      "('31', 'No', 'No', 'No', 'No', 'No')\n",
      "('32', 'No', 'No', 'No', 'No', 'No')\n",
      "('33', 'No', 'No', 'No', 'Yes', 'No')\n",
      "('34', 'Yes', 'Yes', 'Yes', 'No', 'Yes')\n",
      "('35', 'No', 'Yes', 'Yes', 'Yes', 'No')\n",
      "('36', 'No', 'No', 'No', 'No', 'No')\n",
      "('37', 'No', 'Yes', 'Yes', 'No', 'No')\n",
      "('38', 'No', 'Yes', 'Yes', 'Yes', 'No')\n",
      "('39', 'No', 'No', 'No', 'No', 'No')\n",
      "('4', 'Yes', 'Yes', 'No', 'No', 'No')\n",
      "('40', 'Yes', 'Yes', 'No', 'Yes', 'Yes')\n",
      "('41', 'No', 'No', 'Yes', 'No', 'No')\n",
      "('42', 'No', 'No', 'No', 'No', 'No')\n",
      "('43', 'No', 'Yes', 'No', 'No', 'No')\n",
      "('44', 'No', 'No', 'No', 'No', 'No')\n",
      "('45', 'No', 'No', 'No', 'Yes', 'No')\n",
      "('46', 'No', 'No', 'Yes', 'Yes', 'No')\n",
      "('47', 'No', 'No', 'Yes', 'No', 'No')\n",
      "('48', 'No', 'No', 'No', 'No', 'No')\n",
      "('49', 'No', 'Yes', 'No', 'No', 'No')\n",
      "('5', 'No', 'No', 'No', 'No', 'No')\n",
      "('50', 'No', 'No', 'No', 'Yes', 'No')\n",
      "('51', 'Yes', 'Yes', 'No', 'Yes', 'Yes')\n",
      "('52', 'No', 'No', 'Yes', 'No', 'No')\n",
      "('53', 'No', 'No', 'No', 'No', 'No')\n",
      "('54', 'Yes', 'Yes', 'Yes', 'Yes', 'No')\n",
      "('55', 'No', 'Yes', 'No', 'Yes', 'Yes')\n",
      "('56', 'No', 'No', 'No', 'No', 'No')\n",
      "('57', 'No', 'No', 'No', 'No', 'No')\n",
      "('58', 'No', 'Yes', 'Yes', 'No', 'No')\n",
      "('59', 'No', 'No', 'No', 'No', 'No')\n",
      "('6', 'No', 'No', 'No', 'Yes', 'No')\n",
      "('60', 'No', 'No', 'No', 'No', 'No')\n",
      "('61', 'No', 'No', 'No', 'Yes', 'No')\n",
      "('62', 'No', 'No', 'No', 'No', 'No')\n",
      "('63', 'No', 'No', 'No', 'Yes', 'No')\n",
      "('64', 'No', 'No', 'No', 'Yes', 'No')\n",
      "('65', 'No', 'No', 'No', 'No', 'No')\n",
      "('66', 'No', 'Yes', 'Yes', 'No', 'No')\n",
      "('67', 'No', 'No', 'Yes', 'No', 'No')\n",
      "('68', 'Yes', 'Yes', 'No', 'Yes', 'No')\n",
      "('69', 'No', 'Yes', 'No', 'No', 'No')\n",
      "('7', 'Yes', 'Yes', 'No', 'Yes', 'No')\n",
      "('70', 'No', 'No', 'Yes', 'No', 'No')\n",
      "('71', 'No', 'No', 'No', 'No', 'No')\n",
      "('72', 'No', 'No', 'No', 'Yes', 'No')\n",
      "('73', 'Yes', 'Yes', 'No', 'No', 'No')\n",
      "('74', 'No', 'No', 'No', 'No', 'No')\n",
      "('75', 'No', 'No', 'Yes', 'No', 'No')\n",
      "('76', 'No', 'No', 'Yes', 'Yes', 'No')\n",
      "('77', 'No', 'Yes', 'No', 'No', 'No')\n",
      "('78', 'No', 'No', 'No', 'Yes', 'No')\n",
      "('79', 'No', 'No', 'No', 'No', 'No')\n",
      "('8', 'No', 'No', 'Yes', 'No', 'No')\n",
      "('80', 'No', 'No', 'No', 'No', 'No')\n",
      "('81', 'Yes', 'Yes', 'Yes', 'Yes', 'No')\n",
      "('82', 'No', 'No', 'No', 'No', 'No')\n",
      "('83', 'No', 'Yes', 'Yes', 'No', 'No')\n",
      "('84', 'No', 'No', 'No', 'No', 'No')\n",
      "('85', 'No', 'No', 'No', 'No', 'No')\n",
      "('86', 'No', 'Yes', 'Yes', 'No', 'Yes')\n",
      "('87', 'No', 'No', 'No', 'No', 'No')\n",
      "('88', 'No', 'Yes', 'Yes', 'Yes', 'No')\n",
      "('89', 'No', 'No', 'Yes', 'No', 'No')\n",
      "('9', 'No', 'No', 'No', 'No', 'No')\n",
      "('90', 'No', 'No', 'No', 'Yes', 'No')\n",
      "('91', 'No', 'No', 'No', 'Yes', 'No')\n",
      "('92', 'No', 'No', 'Yes', 'No', 'No')\n",
      "('93', 'Yes', 'Yes', 'No', 'No', 'No')\n",
      "('94', 'No', 'Yes', 'No', 'No', 'No')\n",
      "('95', 'No', 'No', 'No', 'Yes', 'No')\n",
      "('96', 'No', 'No', 'No', 'No', 'No')\n",
      "('97', 'No', 'No', 'Yes', 'No', 'No')\n",
      "('98', 'No', 'Yes', 'Yes', 'No', 'No')\n",
      "('99', 'Yes', 'Yes', 'No', 'Yes', 'No')\n"
     ]
    }
   ],
   "source": [
    "mycursor.execute(\"select * from stud_info;\")\n",
    "for x in mycursor:\n",
    "    print(x)"
   ]
  },
  {
   "cell_type": "code",
   "execution_count": 110,
   "id": "b359f0bd",
   "metadata": {},
   "outputs": [],
   "source": [
    "sql = \"update student set Course = 'Data Analylits' where ID = 2\"\n",
    "mycursor.execute(sql)\n",
    "connection.commit()"
   ]
  },
  {
   "cell_type": "code",
   "execution_count": 112,
   "id": "301adb12",
   "metadata": {},
   "outputs": [],
   "source": [
    "sql = \"delete from stud_info where ID = 2\"\n",
    "mycursor.execute(sql)\n",
    "connection.commit()"
   ]
  },
  {
   "cell_type": "code",
   "execution_count": 114,
   "id": "55cb9036",
   "metadata": {},
   "outputs": [],
   "source": [
    "mycursor.close()\n",
    "connection.close()"
   ]
  },
  {
   "cell_type": "code",
   "execution_count": 121,
   "id": "533550ff",
   "metadata": {},
   "outputs": [
    {
     "data": {
      "text/plain": [
       "(101, 12)"
      ]
     },
     "execution_count": 121,
     "metadata": {},
     "output_type": "execute_result"
    }
   ],
   "source": [
    "df = pd.read_csv('Student_health.csv')\n",
    "df.shape"
   ]
  },
  {
   "cell_type": "code",
   "execution_count": 122,
   "id": "ccf0c2d6",
   "metadata": {},
   "outputs": [
    {
     "data": {
      "text/plain": [
       "ID                                              101\n",
       "Timestamp                                        90\n",
       "Choose your gender                                2\n",
       "Age                                               7\n",
       "What is your course?                             49\n",
       "Your current year of Study                        7\n",
       "What is your CGPA?                                6\n",
       "Marital status                                    2\n",
       "Do you have Depression?                           2\n",
       "Do you have Anxiety?                              2\n",
       "Do you have Panic attack?                         2\n",
       "Did you seek any specialist for a treatment?      2\n",
       "dtype: int64"
      ]
     },
     "execution_count": 122,
     "metadata": {},
     "output_type": "execute_result"
    }
   ],
   "source": [
    "df.nunique()"
   ]
  },
  {
   "cell_type": "code",
   "execution_count": 123,
   "id": "0525d382",
   "metadata": {},
   "outputs": [
    {
     "data": {
      "text/plain": [
       "ID                                              0\n",
       "Timestamp                                       0\n",
       "Choose your gender                              0\n",
       "Age                                             0\n",
       "What is your course?                            0\n",
       "Your current year of Study                      0\n",
       "What is your CGPA?                              0\n",
       "Marital status                                  0\n",
       "Do you have Depression?                         0\n",
       "Do you have Anxiety?                            0\n",
       "Do you have Panic attack?                       0\n",
       "Did you seek any specialist for a treatment?    0\n",
       "dtype: int64"
      ]
     },
     "execution_count": 123,
     "metadata": {},
     "output_type": "execute_result"
    }
   ],
   "source": [
    "df = df.dropna(how='any',axis=0) \n",
    "df.isnull().sum()"
   ]
  },
  {
   "cell_type": "code",
   "execution_count": 125,
   "id": "50ba7f04",
   "metadata": {},
   "outputs": [
    {
     "data": {
      "image/png": "[encoded data removed]",
      "text/plain": [
       "<Figure size 360x360 with 1 Axes>"
      ]
     },
     "metadata": {
      "needs_background": "light"
     },
     "output_type": "display_data"
    }
   ],
   "source": [
    "import matplotlib as mpl\n",
    "import matplotlib.pyplot as plt\n",
    "from matplotlib.ticker import StrMethodFormatter\n",
    "import seaborn as sns\n",
    "plt.figure(figsize=(5,5))\n",
    "plt.hist(df['Age'],color='b')\n",
    "plt.title(\"Age distribution\");"
   ]
  },
  {
   "cell_type": "code",
   "execution_count": 128,
   "id": "0811e99f",
   "metadata": {},
   "outputs": [
    {
     "name": "stderr",
     "output_type": "stream",
     "text": [
      "C:\\Users\\Prayag Purani\\anaconda3\\lib\\site-packages\\seaborn\\_decorators.py:36: FutureWarning: Pass the following variable as a keyword arg: x. From version 0.12, the only valid positional argument will be `data`, and passing other arguments without an explicit keyword will result in an error or misinterpretation.\n",
      "  warnings.warn(\n"
     ]
    },
    {
     "data": {
      "image/png": "[encoded data removed]",
      "text/plain": [
       "<Figure size 360x360 with 1 Axes>"
      ]
     },
     "metadata": {
      "needs_background": "light"
     },
     "output_type": "display_data"
    }
   ],
   "source": [
    "plt.figure(figsize=(5,5))\n",
    "sns.countplot(df['Do you have Anxiety?'],hue=df['Do you have Depression?'])\n",
    "plt.title(\"Students studyig in particular year\");\n",
    "plt.show()"
   ]
  },
  {
   "cell_type": "code",
   "execution_count": 130,
   "id": "c221e2c0",
   "metadata": {},
   "outputs": [
    {
     "data": {
      "image/png": "[encoded data removed]",
      "text/plain": [
       "<Figure size 720x720 with 1 Axes>"
      ]
     },
     "metadata": {},
     "output_type": "display_data"
    }
   ],
   "source": [
    "plt.figure(figsize=(10,10))\n",
    "sns.set_theme(style=\"darkgrid\")\n",
    "ax = sns.countplot(y=\"Do you have Anxiety?\",hue='Choose your gender', data=df)\n",
    "plt.title(\"Anxiety by Gender\")\n",
    "plt.show()"
   ]
  },
  {
   "cell_type": "code",
   "execution_count": 131,
   "id": "14b1a59c",
   "metadata": {},
   "outputs": [
    {
     "data": {
      "image/png": "[encoded data removed]",
      "text/plain": [
       "<Figure size 720x720 with 1 Axes>"
      ]
     },
     "metadata": {},
     "output_type": "display_data"
    }
   ],
   "source": [
    "plt.figure(figsize=(10,10))\n",
    "sns.set_theme(style=\"darkgrid\")\n",
    "ax = sns.countplot(x=\"Do you have Anxiety?\", hue=\"Your current year of Study\", data=df)\n",
    "plt.title(\"Anxiety by study year\")\n",
    "plt.show()"
   ]
  },
  {
   "cell_type": "code",
   "execution_count": null,
   "id": "66eaae2e",
   "metadata": {},
   "outputs": [],
   "source": []
  }
 ],
 "metadata": {
  "kernelspec": {
   "display_name": "Python 3 (ipykernel)",
   "language": "python",
   "name": "python3"
  },
  "language_info": {
   "codemirror_mode": {
    "name": "ipython",
    "version": 3
   },
   "file_extension": ".py",
   "mimetype": "text/x-python",
   "name": "python",
   "nbconvert_exporter": "python",
   "pygments_lexer": "ipython3",
   "version": "3.9.12"
  }
 },
 "nbformat": 4,
 "nbformat_minor": 5
}
